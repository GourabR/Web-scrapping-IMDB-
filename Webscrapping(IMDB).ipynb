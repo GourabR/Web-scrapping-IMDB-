{
  "nbformat": 4,
  "nbformat_minor": 0,
  "metadata": {
    "colab": {
      "provenance": [],
      "authorship_tag": "ABX9TyNyQFQE6MTr3SZts73djC8E",
      "include_colab_link": true
    },
    "kernelspec": {
      "name": "python3",
      "display_name": "Python 3"
    },
    "language_info": {
      "name": "python"
    }
  },
  "cells": [
    {
      "cell_type": "markdown",
      "metadata": {
        "id": "view-in-github",
        "colab_type": "text"
      },
      "source": [
        "<a href=\"https://colab.research.google.com/github/GourabR/Web-scrapping-IMDB-/blob/main/Webscrapping(IMDB).ipynb\" target=\"_parent\"><img src=\"https://colab.research.google.com/assets/colab-badge.svg\" alt=\"Open In Colab\"/></a>"
      ]
    },
    {
      "cell_type": "code",
      "execution_count": null,
      "metadata": {
        "id": "scgL1QBV3MeB"
      },
      "outputs": [],
      "source": [
        "from bs4 import BeautifulSoup\n",
        "import requests\n",
        "from selenium import webdriver\n",
        "import threading\n",
        "import time\n",
        "import pandas as pd\n",
        "import numpy as np\n",
        "import warnings\n",
        "warnings.filterwarnings(\"ignore\")\n",
        "\n",
        "url_head = \"https://www.imdb.com\"\n",
        "url = url_head + '/feature/genre/?ref_=nv_ch_gr'\n",
        "#https://www.imdb.com/search/title/?genres=Animation&explore=title_type%2Cgenres&ref_=ft_popular_2\n",
        "user_agent = 'Mozilla/5.0 (Windows NT 10.0; Win64; x64) AppleWebKit/537.36 (KHTML, like Gecko) Chrome/94.0.4606.81 Safari/537.36'\n",
        "headers = {'user_agent': user_agent, 'Accept-Language': 'en-US, en;q=0.5'}\n",
        "\n",
        "webpage = requests.get(url, headers=headers)\n",
        "soup = BeautifulSoup(webpage.content, 'html.parser')\n",
        "\n",
        "genre_links = [i[\"href\"] for i in soup.find_all(\"a\", class_ = \"ipc-chip ipc-chip--on-base-accent2\")]\n",
        "\n",
        "genre_links = [url_head + i for i in genre_links]\n",
        "\n",
        "genre_links = [i for i in genre_links if \"movie\" in i]\n",
        "\n",
        "movie_links = []\n",
        "for url in genre_links:\n",
        "    #url = genre_links[0]\n",
        "    driver = webdriver.Chrome()\n",
        "    driver.get(url)\n",
        "    url_head = \"https://www.primevideo.com\"\n",
        "\n",
        "    driver.maximize_window()\n",
        "\n",
        "\n",
        "    xpath_expression = '/html/body/div[2]/main/div[2]/div[3]/section/section/div/section/section/div[2]/div/section/div[2]/div[2]/div[2]/div/span/button'\n",
        "    wait = WebDriverWait(driver, 10)\n",
        "    cookie_button = wait.until(EC.element_to_be_clickable((By.XPATH, xpath_expression)))\n",
        "    while cookie_button != '':\n",
        "        driver.execute_script(\"arguments[0].click();\", cookie_button)\n",
        "\n",
        "    time.sleep(6)\n",
        "\n",
        "    page_source = driver.page_source\n",
        "\n",
        "    soup = BeautifulSoup(page_source, 'html.parser')\n",
        "\n",
        "    movie_link.append((url_head+i[\"href\"] for i in soup.find_all(\"a\", class_ = \"ipc-lockup-overlay ipc-focusable\")))"
      ]
    }
  ]
}